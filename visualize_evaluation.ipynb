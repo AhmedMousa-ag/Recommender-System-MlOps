{
 "cells": [
  {
   "cell_type": "code",
   "execution_count": 3,
   "id": "c00af156",
   "metadata": {},
   "outputs": [
    {
     "data": {
      "text/plain": [
       "'import tensorflow_model_analysis as tfma\\nfrom Utils.utils import load_config_file'"
      ]
     },
     "execution_count": 3,
     "metadata": {},
     "output_type": "execute_result"
    }
   ],
   "source": [
    "import tensorflow_model_analysis as tfma\n",
    "from Utils.utils import load_config_file"
   ]
  },
  {
   "cell_type": "code",
   "execution_count": 4,
   "id": "014ef937",
   "metadata": {},
   "outputs": [
    {
     "data": {
      "text/plain": [
       "'output_path = config_file[\"eval_output_path\"] # Currently we have to hardcode it until I figure out if it\\'s possible to access components from inside pipeline run fucntion\\n\\n# Load the evaluation results.\\neval_result = tfma.load_eval_result(output_path)\\n'"
      ]
     },
     "execution_count": 4,
     "metadata": {},
     "output_type": "execute_result"
    }
   ],
   "source": [
    "output_path = config_file[\"eval_output_path\"] # Currently we have to hardcode it until I figure out if it's possible to access components from inside pipeline run fucntion\n",
    "\n",
    "# Load the evaluation results.\n",
    "eval_result = tfma.load_eval_result(output_path)\n"
   ]
  },
  {
   "cell_type": "code",
   "execution_count": 5,
   "id": "71c7f87e",
   "metadata": {},
   "outputs": [
    {
     "data": {
      "text/plain": [
       "'# Visualize the metrics and plots using tfma.view.render_slicing_metrics,\\n# tfma.view.render_plot, etc.\\ntfma.view.render_slicing_metrics(tfma_result)\\n'"
      ]
     },
     "execution_count": 5,
     "metadata": {},
     "output_type": "execute_result"
    }
   ],
   "source": [
    "# Visualize the metrics and plots using tfma.view.render_slicing_metrics,\n",
    "# tfma.view.render_plot, etc.\n",
    "tfma.view.render_slicing_metrics(tfma_result)\n"
   ]
  },
  {
   "cell_type": "code",
   "execution_count": 6,
   "id": "faffb937",
   "metadata": {},
   "outputs": [
    {
     "data": {
      "text/plain": [
       "'# Load the validation results\\nvalidation_result = tfma.load_validation_result(output_path)'"
      ]
     },
     "execution_count": 6,
     "metadata": {},
     "output_type": "execute_result"
    }
   ],
   "source": [
    "# Load the validation results\n",
    "validation_result = tfma.load_validation_result(output_path)"
   ]
  },
  {
   "cell_type": "code",
   "execution_count": null,
   "id": "75567dba",
   "metadata": {},
   "outputs": [],
   "source": []
  }
 ],
 "metadata": {
  "kernelspec": {
   "display_name": "Python 3 (ipykernel)",
   "language": "python",
   "name": "python3"
  },
  "language_info": {
   "codemirror_mode": {
    "name": "ipython",
    "version": 3
   },
   "file_extension": ".py",
   "mimetype": "text/x-python",
   "name": "python",
   "nbconvert_exporter": "python",
   "pygments_lexer": "ipython3",
   "version": "3.8.13"
  }
 },
 "nbformat": 4,
 "nbformat_minor": 5
}
